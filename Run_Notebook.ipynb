{
 "cells": [
  {
   "cell_type": "code",
   "execution_count": 1,
   "metadata": {},
   "outputs": [],
   "source": [
    "!pip install -r requirements.txt"
   ]
  },
  {
   "cell_type": "code",
   "execution_count": null,
   "metadata": {},
   "outputs": [],
   "source": [
    "from cls import *\n",
    "import time\n",
    "BOARDSIZE = 25\n",
    "NUM_CLUSTERS = 1\n",
    "PROB_NURSE = 0.02\n",
    "PROB_PERSON = 0.2\n",
    "def main():\n",
    "    sim = Simulation(board_size=BOARDSIZE,num_clusters=NUM_CLUSTERS,\n",
    "                     prob_nurse=PROB_NURSE,prob_person=PROB_PERSON)\n",
    "    # print(sim.show_map())\n",
    "    sim.start()\n",
    "    sim.view()\n",
    "    while True:\n",
    "        sim.step()\n",
    "        sim.view()\n",
    "        time.sleep(3)\n",
    "if __name__ == \"__main__\": \n",
    "    main()"
   ]
  }
 ],
 "metadata": {
  "kernelspec": {
   "display_name": "Python 3",
   "language": "python",
   "name": "python3"
  },
  "language_info": {
   "codemirror_mode": {
    "name": "ipython",
    "version": 3
   },
   "file_extension": ".py",
   "mimetype": "text/x-python",
   "name": "python",
   "nbconvert_exporter": "python",
   "pygments_lexer": "ipython3",
   "version": "3.11.9"
  }
 },
 "nbformat": 4,
 "nbformat_minor": 2
}
